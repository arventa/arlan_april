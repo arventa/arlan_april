{
  "nbformat": 4,
  "nbformat_minor": 0,
  "metadata": {
    "colab": {
      "provenance": [],
      "authorship_tag": "ABX9TyPWV7E88e9bSKYQSHSUzAP/",
      "include_colab_link": true
    },
    "kernelspec": {
      "name": "python3",
      "display_name": "Python 3"
    },
    "language_info": {
      "name": "python"
    }
  },
  "cells": [
    {
      "cell_type": "markdown",
      "metadata": {
        "id": "view-in-github",
        "colab_type": "text"
      },
      "source": [
        "<a href=\"https://colab.research.google.com/github/arventa/arlan_april/blob/main/Arlan_Arventa_Data_Engineer_Q3.ipynb\" target=\"_parent\"><img src=\"https://colab.research.google.com/assets/colab-badge.svg\" alt=\"Open In Colab\"/></a>"
      ]
    },
    {
      "cell_type": "code",
      "source": [
        "import re\n",
        "from collections import Counter"
      ],
      "metadata": {
        "id": "iw6fKbgroTZa"
      },
      "execution_count": null,
      "outputs": []
    },
    {
      "cell_type": "code",
      "execution_count": null,
      "metadata": {
        "id": "petE8Ym3oLvN"
      },
      "outputs": [],
      "source": [
        "data = \"\"\"As a term, data analytics predominantly refers to an assortment of applications, from basic business\n",
        "intelligence (BI), reporting and online analytical processing (OLAP) to various forms of advanced\n",
        "analytics. In that sense, it's similar in nature to business analytics, another umbrella term for\n",
        "approaches to analyzing data -- with the difference that the latter is oriented to business uses, while\n",
        "data analytics has a broader focus. The expansive view of the term isn't universal, though: In some\n",
        "cases, people use data analytics specifically to mean advanced analytics, treating BI as a separate\n",
        "category. Data analytics initiatives can help businesses increase revenues, improve operational\n",
        "efficiency, optimize marketing campaigns and customer service efforts, respond more quickly to\n",
        "emerging market trends and gain a competitive edge over rivals -- all with the ultimate goal of\n",
        "boosting business performance. Depending on the particular application, the data that's analyzed\n",
        "can consist of either historical records or new information that has been processed for real-time\n",
        "analytics uses. In addition, it can come from a mix of internal systems and external data sources. At\n",
        "a high level, data analytics methodologies include exploratory data analysis (EDA), which aims to find\n",
        "patterns and relationships in data, and confirmatory data analysis (CDA), which applies statistical\n",
        "techniques to determine whether hypotheses about a data set are true or false. EDA is often\n",
        "compared to detective work, while CDA is akin to the work of a judge or jury during a court trial -- a\n",
        "distinction first drawn by statistician John W. Tukey in his 1977 book Exploratory Data Analysis. Data\n",
        "analytics can also be separated into quantitative data analysis and qualitative data analysis. The\n",
        "former involves analysis of numerical data with quantifiable variables that can be compared or\n",
        "measured statistically. The qualitative approach is more interpretive -- it focuses on understanding\n",
        "the content of non-numerical data like text, images, audio and video, including common phrases,\n",
        "themes and points of view.\"\"\""
      ]
    },
    {
      "cell_type": "code",
      "source": [
        "def tokenize(string):\n",
        "    return re.compile('\\w+').findall(string)"
      ],
      "metadata": {
        "id": "Ky2XTPuao5S4"
      },
      "execution_count": null,
      "outputs": []
    },
    {
      "cell_type": "code",
      "source": [
        "def word_freq(string):\n",
        "    text = tokenize(string.lower())\n",
        "    c = Counter(text)           # count the words\n",
        "    return (dict(c))"
      ],
      "metadata": {
        "id": "U0d5LaEDoruq"
      },
      "execution_count": null,
      "outputs": []
    },
    {
      "cell_type": "code",
      "source": [
        "words=word_freq(data)"
      ],
      "metadata": {
        "id": "qNSgmWTDpDnU"
      },
      "execution_count": null,
      "outputs": []
    },
    {
      "cell_type": "code",
      "source": [
        "sumWords = sum(words.values())"
      ],
      "metadata": {
        "id": "I44B-unZpILy"
      },
      "execution_count": null,
      "outputs": []
    },
    {
      "cell_type": "code",
      "source": [
        "print(\"3a. Probability of '{}': {}\".format('data',words['data']/sumWords))"
      ],
      "metadata": {
        "colab": {
          "base_uri": "https://localhost:8080/"
        },
        "id": "8d58edaUpNhy",
        "outputId": "c374f5c7-332c-4552-bfee-ea70e906691d"
      },
      "execution_count": null,
      "outputs": [
        {
          "output_type": "stream",
          "name": "stdout",
          "text": [
            "Probability of 'data': 0.05625\n"
          ]
        }
      ]
    },
    {
      "cell_type": "code",
      "source": [
        "# prompt: What is the distribution of distinct word counts across all the lines in \"data\"?\n",
        "\n",
        "lines = data.split('.')\n",
        "line_word_counts = [len(set(tokenize(line.lower()))) for line in lines]\n",
        "line_word_count_distribution = Counter(line_word_counts)\n",
        "print(\"Distribution of distinct word counts across lines:\", line_word_count_distribution)\n"
      ],
      "metadata": {
        "colab": {
          "base_uri": "https://localhost:8080/"
        },
        "id": "Xn48PRIppvE9",
        "outputId": "3d07f169-d3dd-4515-f07b-d87133d3650d"
      },
      "execution_count": null,
      "outputs": [
        {
          "output_type": "stream",
          "name": "stdout",
          "text": [
            "Distribution of distinct word counts across lines: Counter({26: 4, 29: 1, 40: 1, 15: 1, 33: 1, 8: 1, 11: 1, 17: 1, 27: 1, 0: 1})\n"
          ]
        }
      ]
    },
    {
      "cell_type": "code",
      "source": [
        "# prompt: What is the probability of the word “analytics” occurring after the word “data” ?\n",
        "\n",
        "# Tokenize the text, preserving punctuation for bigram analysis\n",
        "tokens = re.findall(r'\\w+|[.,!?;]', data.lower())\n",
        "\n",
        "# Count occurrences of the bigram \"data analytics\"\n",
        "bigram_count = tokens.count(\"data\") - tokens[::-1].index(\"data\") - tokens.index(\"analytics\")\n",
        "\n",
        "# Calculate the probability\n",
        "probability = bigram_count / sumWords\n",
        "\n",
        "print(\"Probability of 'analytics' occurring after 'data':\", probability)\n"
      ],
      "metadata": {
        "colab": {
          "base_uri": "https://localhost:8080/"
        },
        "id": "J77vV1ziqulO",
        "outputId": "053b6617-c7f7-43d9-9a47-ef4e60981e4b"
      },
      "execution_count": null,
      "outputs": [
        {
          "output_type": "stream",
          "name": "stdout",
          "text": [
            "Probability of 'analytics' occurring after 'data': -0.01875\n"
          ]
        }
      ]
    }
  ]
}